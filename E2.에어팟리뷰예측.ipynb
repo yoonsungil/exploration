{
 "cells": [
  {
   "cell_type": "code",
   "execution_count": 1,
   "id": "d49766b3",
   "metadata": {},
   "outputs": [],
   "source": [
    "#전처리에 필요한 모듈\n",
    "import pandas as pd\n",
    "import numpy as np"
   ]
  },
  {
   "cell_type": "code",
   "execution_count": 19,
   "id": "881d9419",
   "metadata": {},
   "outputs": [],
   "source": [
    "#데이터셋 로드\n",
    "train_data = pd.read_csv('train_df.csv',sep='w',index_col=0)\n",
    "test_data = pd.read_csv('test_df.csv',sep='w',index_col=0)"
   ]
  },
  {
   "cell_type": "code",
   "execution_count": 22,
   "id": "c6b3ecfa",
   "metadata": {},
   "outputs": [
    {
     "name": "stdout",
     "output_type": "stream",
     "text": [
      "<class 'pandas.core.frame.DataFrame'>\n",
      "Int64Index: 1581 entries, 1893 to 448\n",
      "Data columns (total 3 columns):\n",
      " #   Column   Non-Null Count  Dtype \n",
      "---  ------   --------------  ----- \n",
      " 0   rating   1581 non-null   int64 \n",
      " 1   label    1581 non-null   int64 \n",
      " 2   reviews  1581 non-null   object\n",
      "dtypes: int64(2), object(1)\n",
      "memory usage: 49.4+ KB\n"
     ]
    }
   ],
   "source": [
    "train_data.info()"
   ]
  },
  {
   "cell_type": "code",
   "execution_count": 23,
   "id": "9491d219",
   "metadata": {},
   "outputs": [
    {
     "name": "stdout",
     "output_type": "stream",
     "text": [
      "<class 'pandas.core.frame.DataFrame'>\n",
      "Int64Index: 396 entries, 1135 to 213\n",
      "Data columns (total 3 columns):\n",
      " #   Column   Non-Null Count  Dtype \n",
      "---  ------   --------------  ----- \n",
      " 0   rating   396 non-null    int64 \n",
      " 1   label    396 non-null    int64 \n",
      " 2   reviews  396 non-null    object\n",
      "dtypes: int64(2), object(1)\n",
      "memory usage: 12.4+ KB\n"
     ]
    }
   ],
   "source": [
    "test_data.info()"
   ]
  },
  {
   "cell_type": "code",
   "execution_count": 24,
   "id": "2603e795",
   "metadata": {},
   "outputs": [],
   "source": [
    "#형태소 분석기로 어간 추출 및 불용어 제거 \n",
    "#한국어 텍스트 전처리할때는 konlpy를 사용\n",
    "from konlpy.tag import Okt\n",
    "from tensorflow.keras.preprocessing.sequence import pad_sequences\n",
    "from tensorflow.keras.preprocessing.text import Tokenizer"
   ]
  },
  {
   "cell_type": "code",
   "execution_count": 28,
   "id": "7dc04da9",
   "metadata": {},
   "outputs": [],
   "source": [
    "stop_words = pd.read_csv('https://raw.githubusercontent.com/yoonkt200/FastCampusDataset/master/korean_stopwords.txt')\n",
    "okt=Okt()\n",
    "clean_train_review=[]\n",
    "\n",
    "def preprocessing(review):\n",
    "    word_review = okt.morphs(review,stem=True)    #형태소로 나눔\n",
    "    word_review = [token for token in word_review if not token in stop_words]  #불용어 제거\n",
    "    word_review = [x for x in word_review if len(x) > 1] # 1글자 단어를 제외하고 추출\n",
    "    return word_review"
   ]
  },
  {
   "cell_type": "code",
   "execution_count": 29,
   "id": "2b82587a",
   "metadata": {},
   "outputs": [
    {
     "data": {
      "text/plain": [
       "[['에어팟',\n",
       "  '세대',\n",
       "  '이다',\n",
       "  '에어팟',\n",
       "  '프로',\n",
       "  '갈아타다',\n",
       "  '주변',\n",
       "  '에서',\n",
       "  '노이즈',\n",
       "  '슬링',\n",
       "  '신세계',\n",
       "  '라는',\n",
       "  '바로',\n",
       "  '지르다',\n",
       "  '버리다',\n",
       "  '스마트',\n",
       "  '으로',\n",
       "  '퇴근길',\n",
       "  '가깝다',\n",
       "  '에서',\n",
       "  '픽업',\n",
       "  '하다',\n",
       "  '있다',\n",
       "  '자주',\n",
       "  '이용',\n",
       "  '하다',\n",
       "  '같다']]"
      ]
     },
     "execution_count": 29,
     "metadata": {},
     "output_type": "execute_result"
    }
   ],
   "source": [
    "for review in train_data['reviews']:\n",
    "    clean_train_review.append(preprocessing(review))\n",
    "    \n",
    "clean_train_review[:1]"
   ]
  },
  {
   "cell_type": "code",
   "execution_count": 31,
   "id": "f2014338",
   "metadata": {
    "collapsed": true
   },
   "outputs": [
    {
     "data": {
      "text/plain": [
       "[['최고',\n",
       "  '에요',\n",
       "  '나오다',\n",
       "  '누가',\n",
       "  '이어폰',\n",
       "  '만원',\n",
       "  '주다',\n",
       "  '재정',\n",
       "  '신인',\n",
       "  '늘다',\n",
       "  '지금',\n",
       "  '이십만원',\n",
       "  '주다',\n",
       "  '이어폰',\n",
       "  '사다',\n",
       "  '사다',\n",
       "  '홍보',\n",
       "  '대사',\n",
       "  '노이즈',\n",
       "  '슬링',\n",
       "  '정말',\n",
       "  '신세계',\n",
       "  '무조건',\n",
       "  '사다',\n",
       "  '야하다',\n",
       "  '신기하다',\n",
       "  '세상',\n",
       "  '알리다',\n",
       "  '증말',\n",
       "  '좋다']]"
      ]
     },
     "execution_count": 31,
     "metadata": {},
     "output_type": "execute_result"
    }
   ],
   "source": [
    "#테스트셋도 동일하게 추출\n",
    "clean_test_review=[]\n",
    "for review in test_data['reviews']:\n",
    "    clean_test_review.append(preprocessing(review))\n",
    "\n",
    "clean_test_review[:1]"
   ]
  },
  {
   "cell_type": "code",
   "execution_count": 32,
   "id": "f9481994",
   "metadata": {},
   "outputs": [],
   "source": [
    "total_data_text = clean_train_review + clean_test_review"
   ]
  },
  {
   "cell_type": "code",
   "execution_count": 34,
   "id": "e5ea5e0f",
   "metadata": {},
   "outputs": [],
   "source": [
    "num_tokens = [len(token) for token in total_data_text]\n",
    "num_tokens = np.array(num_tokens)"
   ]
  },
  {
   "cell_type": "code",
   "execution_count": 35,
   "id": "6d97a527",
   "metadata": {},
   "outputs": [
    {
     "name": "stdout",
     "output_type": "stream",
     "text": [
      "문장길이 평균: 45.375316135558926\n",
      "문장길이 최대: 426\n",
      "문장길이 표준편차: 29.840509408078887\n"
     ]
    }
   ],
   "source": [
    "print('문장길이 평균:',np.mean(num_tokens))\n",
    "print('문장길이 최대:',np.max(num_tokens))\n",
    "print('문장길이 표준편차:',np.std(num_tokens))"
   ]
  },
  {
   "cell_type": "code",
   "execution_count": 39,
   "id": "e0769340",
   "metadata": {},
   "outputs": [
    {
     "data": {
      "image/png": "[encoded data removed]",
      "text/plain": [
       "<Figure size 432x288 with 1 Axes>"
      ]
     },
     "metadata": {
      "needs_background": "light"
     },
     "output_type": "display_data"
    }
   ],
   "source": [
    "import matplotlib.pyplot as plt\n",
    "\n",
    "plt.hist([len(review) for review in total_data_text], bins=100)\n",
    "plt.xlabel('length')\n",
    "plt.ylabel('num')\n",
    "plt.show()"
   ]
  },
  {
   "cell_type": "code",
   "execution_count": null,
   "id": "2ce5f671",
   "metadata": {},
   "outputs": [],
   "source": [
    "#그래프로 보았을때 100정도가 적당해보인다"
   ]
  },
  {
   "cell_type": "code",
   "execution_count": 43,
   "id": "d3a1f1fa",
   "metadata": {},
   "outputs": [
    {
     "name": "stdout",
     "output_type": "stream",
     "text": [
      "pad_sequences maxlen :  105\n",
      "전체 문장의 95.45%가 maxlen 설정값 이내에 포함됩니다. \n"
     ]
    }
   ],
   "source": [
    "#최대 길이를 (평균 + 2*표준편차)로 하여 확인\n",
    "max_tokens = np.mean(num_tokens) + 2 * np.std(num_tokens)\n",
    "maxlen = int(max_tokens)\n",
    "print('pad_sequences maxlen : ', maxlen)\n",
    "print('전체 문장의 {}%가 maxlen 설정값 이내에 포함됩니다. '.format(round(np.sum(num_tokens < max_tokens) / len(num_tokens)*100, 2) ))"
   ]
  },
  {
   "cell_type": "code",
   "execution_count": 45,
   "id": "4b42ccf1",
   "metadata": {},
   "outputs": [],
   "source": [
    "# 데이터 백터화\n",
    "tokenizer = Tokenizer()\n",
    "tokenizer.fit_on_texts(clean_train_review)\n",
    "train_sequences = tokenizer.texts_to_sequences(clean_train_review)\n",
    "test_sequences = tokenizer.texts_to_sequences(clean_test_review)\n",
    "\n",
    "word_vocab = tokenizer.word_index\n",
    "MAX_SEQUENCE_LENGTH = maxlen #문장 최대 길이\n",
    "\n",
    "#학습 데이터 패딩처리\n",
    "train_inputs = pad_sequences(train_sequences,maxlen=MAX_SEQUENCE_LENGTH,padding='post')\n",
    "\n",
    "#학습 데이터 라벨 벡터화\n",
    "train_labels = np.array(train_data['label'])\n",
    "\n",
    "#평가 데이터 패딩처리\n",
    "test_inputs = pad_sequences(test_sequences,maxlen=MAX_SEQUENCE_LENGTH,padding='post')\n",
    "#평가 데이터 라벨 벡터화\n",
    "test_labels = np.array(test_data['label'])"
   ]
  },
  {
   "cell_type": "code",
   "execution_count": 47,
   "id": "b880d910",
   "metadata": {},
   "outputs": [
    {
     "data": {
      "text/plain": [
       "((1581, 105), (1581,))"
      ]
     },
     "execution_count": 47,
     "metadata": {},
     "output_type": "execute_result"
    }
   ],
   "source": [
    "train_inputs.shape, train_labels.shape"
   ]
  },
  {
   "cell_type": "code",
   "execution_count": 60,
   "id": "c5d83fac",
   "metadata": {},
   "outputs": [],
   "source": [
    "import json"
   ]
  },
  {
   "cell_type": "code",
   "execution_count": 61,
   "id": "f069223c",
   "metadata": {},
   "outputs": [],
   "source": [
    "#파일로 넘파이 파일로 저장\n",
    "DATA_PATH = 'CLEAN_DATA/'\n",
    "TRAIN_INPUT_DATA = 'nsmc_train_input.npy'\n",
    "TRAIN_LABEL_DATA = 'nsmc_train_label.npy'\n",
    "TEST_INPUT_DATA = 'nsmc_test_input.npy'\n",
    "TEST_LABEL_DATA = 'nsmc_test_label.npy'\n",
    "DATA_CONFIGS = 'data_config.json'\n",
    "\n",
    "data_configs={}\n",
    "data_configs['vocab'] = word_vocab\n",
    "data_configs['vocab_size'] = len(word_vocab) + 1\n",
    "\n",
    "#전처리한 데이터들 파일로저장\n",
    "import os\n",
    "\n",
    "if not os.path.exists(DATA_PATH):\n",
    "  os.makedirs(DATA_PATH)\n",
    "\n",
    "#전처리 학습데이터 넘파이로 저장\n",
    "np.save(open(DATA_PATH+TRAIN_INPUT_DATA,'wb'),train_inputs)\n",
    "np.save(open(DATA_PATH+TRAIN_LABEL_DATA,'wb'),train_labels)\n",
    "#전처리 테스트데이터 넘파이로 저장\n",
    "np.save(open(DATA_PATH+TEST_INPUT_DATA,'wb'),test_inputs)\n",
    "np.save(open(DATA_PATH+TEST_LABEL_DATA,'wb'),test_labels)\n",
    "\n",
    "#데이터 사전 json으로 저장\n",
    "json.dump(data_configs,open(DATA_PATH + DATA_CONFIGS,'w'),ensure_ascii=False)"
   ]
  },
  {
   "cell_type": "code",
   "execution_count": 77,
   "id": "c5c745c8",
   "metadata": {},
   "outputs": [],
   "source": [
    "#학습하기\n",
    "\n",
    "from tensorflow.keras.layers import Embedding, Dense, GRU\n",
    "from tensorflow.keras.models import Sequential\n",
    "from tensorflow.keras.models import load_model\n",
    "from tensorflow.keras.callbacks import EarlyStopping, ModelCheckpoint"
   ]
  },
  {
   "cell_type": "code",
   "execution_count": 92,
   "id": "966246c3",
   "metadata": {},
   "outputs": [
    {
     "name": "stdout",
     "output_type": "stream",
     "text": [
      "Model: \"sequential_9\"\n",
      "_________________________________________________________________\n",
      " Layer (type)                Output Shape              Param #   \n",
      "=================================================================\n",
      " embedding_5 (Embedding)     (None, None, 16)          82448     \n",
      "                                                                 \n",
      " gru_3 (GRU)                 (None, 128)               56064     \n",
      "                                                                 \n",
      " dense_5 (Dense)             (None, 1)                 129       \n",
      "                                                                 \n",
      "=================================================================\n",
      "Total params: 138,641\n",
      "Trainable params: 138,641\n",
      "Non-trainable params: 0\n",
      "_________________________________________________________________\n"
     ]
    }
   ],
   "source": [
    "vocab_size = len(word_vocab)+1\n",
    "embedding_dim = 16\n",
    "\n",
    "model = Sequential()\n",
    "model.add(Embedding(vocab_size,embedding_dim, input_shape=(None,)))\n",
    "model.add(GRU(128))\n",
    "model.add(Dense(1, activation='sigmoid'))  #이진분류모델로 활성화함수 시그모이드사용\n",
    "model.summary()"
   ]
  },
  {
   "cell_type": "code",
   "execution_count": 93,
   "id": "cb81c7fb",
   "metadata": {},
   "outputs": [],
   "source": [
    "es = EarlyStopping(monitor='val_loss', mode='min', verbose=1, patience=4)\n",
    "mc = ModelCheckpoint('best_model.h5', monitor='val_acc', mode='max', verbose=1, save_best_only=True)"
   ]
  },
  {
   "cell_type": "code",
   "execution_count": 94,
   "id": "27adf51f",
   "metadata": {},
   "outputs": [
    {
     "name": "stdout",
     "output_type": "stream",
     "text": [
      "Epoch 1/15\n",
      "21/22 [===========================>..] - ETA: 0s - loss: 0.5180 - acc: 0.7984\n",
      "Epoch 1: val_acc improved from -inf to 0.89274, saving model to best_model.h5\n",
      "22/22 [==============================] - 4s 107ms/step - loss: 0.5182 - acc: 0.7983 - val_loss: 0.4018 - val_acc: 0.8927\n",
      "Epoch 2/15\n",
      "21/22 [===========================>..] - ETA: 0s - loss: 0.4687 - acc: 0.8278\n",
      "Epoch 2: val_acc did not improve from 0.89274\n",
      "22/22 [==============================] - 2s 80ms/step - loss: 0.4680 - acc: 0.8283 - val_loss: 0.3449 - val_acc: 0.8927\n",
      "Epoch 3/15\n",
      "21/22 [===========================>..] - ETA: 0s - loss: 0.4636 - acc: 0.8278\n",
      "Epoch 3: val_acc did not improve from 0.89274\n",
      "22/22 [==============================] - 2s 79ms/step - loss: 0.4627 - acc: 0.8283 - val_loss: 0.3905 - val_acc: 0.8927\n",
      "Epoch 4/15\n",
      "21/22 [===========================>..] - ETA: 0s - loss: 0.4648 - acc: 0.8286\n",
      "Epoch 4: val_acc did not improve from 0.89274\n",
      "22/22 [==============================] - 2s 79ms/step - loss: 0.4652 - acc: 0.8283 - val_loss: 0.3893 - val_acc: 0.8927\n",
      "Epoch 5/15\n",
      "21/22 [===========================>..] - ETA: 0s - loss: 0.4607 - acc: 0.8294\n",
      "Epoch 5: val_acc did not improve from 0.89274\n",
      "22/22 [==============================] - 2s 80ms/step - loss: 0.4624 - acc: 0.8283 - val_loss: 0.4269 - val_acc: 0.8927\n",
      "Epoch 6/15\n",
      "21/22 [===========================>..] - ETA: 0s - loss: 0.4623 - acc: 0.8286\n",
      "Epoch 6: val_acc did not improve from 0.89274\n",
      "22/22 [==============================] - 2s 79ms/step - loss: 0.4627 - acc: 0.8283 - val_loss: 0.3880 - val_acc: 0.8927\n",
      "Epoch 6: early stopping\n"
     ]
    }
   ],
   "source": [
    "model.compile(optimizer='rmsprop', loss='binary_crossentropy', metrics=['acc'])\n",
    "history = model.fit(train_inputs, train_labels, epochs=15, callbacks=[es, mc], batch_size=60, validation_split=0.2)"
   ]
  },
  {
   "cell_type": "code",
   "execution_count": 91,
   "id": "747ba97e",
   "metadata": {},
   "outputs": [
    {
     "name": "stdout",
     "output_type": "stream",
     "text": [
      "13/13 [==============================] - 0s 22ms/step - loss: 0.5545 - acc: 0.8409\n"
     ]
    },
    {
     "data": {
      "text/plain": [
       "[0.554478645324707, 0.8409090638160706]"
      ]
     },
     "execution_count": 91,
     "metadata": {},
     "output_type": "execute_result"
    }
   ],
   "source": [
    "#평가하기\n",
    "\n",
    "model.load_weights('best_model.h5')\n",
    "model.evaluate(test_inputs, test_labels)"
   ]
  },
  {
   "cell_type": "code",
   "execution_count": null,
   "id": "cdada2c2",
   "metadata": {},
   "outputs": [],
   "source": [
    "#  84프로의 정확도를 보인다"
   ]
  },
  {
   "cell_type": "code",
   "execution_count": 63,
   "id": "dd6a4a23",
   "metadata": {},
   "outputs": [],
   "source": [
    "#예측하기\n",
    "\n",
    "import re"
   ]
  },
  {
   "cell_type": "code",
   "execution_count": 87,
   "id": "44069580",
   "metadata": {},
   "outputs": [
    {
     "name": "stdout",
     "output_type": "stream",
     "text": [
      "감성분석할 문장을 입력해 주세요.: 배송빠르고 좋아요\n",
      "84.56% 확률로 긍정 리뷰입니다.\n",
      "\n"
     ]
    }
   ],
   "source": [
    "sentence = input('감성분석할 문장을 입력해 주세요.: ')\n",
    "sentence = re.sub(r'[^가-힣 ]','', sentence)\n",
    "stopwords = pd.read_csv('https://raw.githubusercontent.com/yoonkt200/FastCampusDataset/master/korean_stopwords.txt')\n",
    "sentence = okt.morphs(sentence, stem=True) # 토큰화\n",
    "sentence = [word for word in sentence if not word in stopwords] # 불용어 제거\n",
    "vector  = tokenizer.texts_to_sequences(sentence)\n",
    "pad_new = pad_sequences(vector, maxlen = 8) # 패딩\n",
    "\n",
    "model.load_weights('best_model.h5')\n",
    "predictions = model.predict(pad_new)\n",
    "predictions = float(predictions.squeeze(-1)[1])\n",
    "\n",
    "if(predictions > 0.5):\n",
    "  print(\"{:.2f}% 확률로 긍정 리뷰입니다.\\n\".format(predictions * 100))\n",
    "else:\n",
    "  print(\"{:.2f}% 확률로 부정 리뷰입니다.\\n\".format((1 - predictions) * 100))"
   ]
  }
 ],
 "metadata": {
  "kernelspec": {
   "display_name": "Python 3 (ipykernel)",
   "language": "python",
   "name": "python3"
  },
  "language_info": {
   "codemirror_mode": {
    "name": "ipython",
    "version": 3
   },
   "file_extension": ".py",
   "mimetype": "text/x-python",
   "name": "python",
   "nbconvert_exporter": "python",
   "pygments_lexer": "ipython3",
   "version": "3.9.7"
  }
 },
 "nbformat": 4,
 "nbformat_minor": 5
}
